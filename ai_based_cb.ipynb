{
 "cells": [
  {
   "cell_type": "code",
   "execution_count": 1,
   "id": "2b516ad0-34ec-46d9-b32a-93965eef375e",
   "metadata": {},
   "outputs": [],
   "source": [
    "# # Install required libraries (run this only if not already installed)\n",
    "# !pip install nltk spacy scikit-learn transformers torch streamlit\n",
    "\n",
    "# # For SpaCy, download the English model (run this only if not already installed)\n",
    "# !python -m spacy download en_core_web_sm\n",
    "\n",
    "# Import libraries: Torch for GPU, Transformers for AI models, and others.\n",
    "import nltk\n",
    "import spacy\n",
    "import random\n",
    "import torch\n",
    "from sklearn.feature_extraction.text import TfidfVectorizer\n",
    "from sklearn.svm import SVC\n",
    "from transformers import pipeline\n",
    "import warnings\n",
    "warnings.filterwarnings(\"ignore\")\n",
    "# Load SpaCy model: English model for NLP, not used in this AI approach.\n",
    "nlp = spacy.load(\"en_core_web_sm\")\n",
    "\n",
    "\n"
   ]
  },
  {
   "cell_type": "code",
   "execution_count": 2,
   "id": "94b3a44e-0add-4f80-98da-e91a95c5eb86",
   "metadata": {},
   "outputs": [
    {
     "data": {
      "text/plain": [
       "GPT2LMHeadModel(\n",
       "  (transformer): GPT2Model(\n",
       "    (wte): Embedding(50257, 768)\n",
       "    (wpe): Embedding(1024, 768)\n",
       "    (drop): Dropout(p=0.1, inplace=False)\n",
       "    (h): ModuleList(\n",
       "      (0-11): 12 x GPT2Block(\n",
       "        (ln_1): LayerNorm((768,), eps=1e-05, elementwise_affine=True)\n",
       "        (attn): GPT2Attention(\n",
       "          (c_attn): Conv1D(nf=2304, nx=768)\n",
       "          (c_proj): Conv1D(nf=768, nx=768)\n",
       "          (attn_dropout): Dropout(p=0.1, inplace=False)\n",
       "          (resid_dropout): Dropout(p=0.1, inplace=False)\n",
       "        )\n",
       "        (ln_2): LayerNorm((768,), eps=1e-05, elementwise_affine=True)\n",
       "        (mlp): GPT2MLP(\n",
       "          (c_fc): Conv1D(nf=3072, nx=768)\n",
       "          (c_proj): Conv1D(nf=768, nx=3072)\n",
       "          (act): NewGELUActivation()\n",
       "          (dropout): Dropout(p=0.1, inplace=False)\n",
       "        )\n",
       "      )\n",
       "    )\n",
       "    (ln_f): LayerNorm((768,), eps=1e-05, elementwise_affine=True)\n",
       "  )\n",
       "  (lm_head): Linear(in_features=768, out_features=50257, bias=False)\n",
       ")"
      ]
     },
     "execution_count": 2,
     "metadata": {},
     "output_type": "execute_result"
    }
   ],
   "source": [
    "# Import tqdm: adds progress bars to loops for visual feedback.\n",
    "from tqdm import tqdm\n",
    "\n",
    "# Import Transformers tools: tokenizer and model for AI chatbot functionality.\n",
    "from transformers import AutoTokenizer, AutoModelForCausalLM\n",
    "\n",
    "# Load AI model: sets up DialoGPT with tokenizer and moves it to GPU if available.\n",
    "tokenizer = AutoTokenizer.from_pretrained(\"microsoft/DialoGPT-small\")\n",
    "model = AutoModelForCausalLM.from_pretrained(\"microsoft/DialoGPT-small\")\n",
    "device = \"cuda\" if torch.cuda.is_available() else \"cpu\"\n",
    "model.to(device)\n"
   ]
  },
  {
   "cell_type": "code",
   "execution_count": 3,
   "id": "47db2cd8-e706-427f-a2fd-29c5caf07519",
   "metadata": {},
   "outputs": [
    {
     "name": "stdout",
     "output_type": "stream",
     "text": [
      "\n",
      "Testing AI-Powered Chatbot (DialoGPT):\n"
     ]
    },
    {
     "name": "stderr",
     "output_type": "stream",
     "text": [
      "Generating Responses:   0%|                                                                      | 0/4 [00:00<?, ?it/s]The attention mask is not set and cannot be inferred from input because pad token is same as eos token. As a consequence, you may observe unexpected behavior. Please pass your input's `attention_mask` to obtain reliable results.\n",
      "Generating Responses:  25%|███████████████▌                                              | 1/4 [00:02<00:06,  2.12s/it]"
     ]
    },
    {
     "name": "stdout",
     "output_type": "stream",
     "text": [
      "User: Hi, how are you? | Bot: Hi, I'm from Switzerland, I'm thinking of coming!\n"
     ]
    },
    {
     "name": "stderr",
     "output_type": "stream",
     "text": [
      "Generating Responses:  75%|██████████████████████████████████████████████▌               | 3/4 [00:02<00:00,  1.56it/s]"
     ]
    },
    {
     "name": "stdout",
     "output_type": "stream",
     "text": [
      "User: Tell me about AI | Bot: But my AI is broken!\n",
      "User: Goodbye | Bot: goodbye lol\n"
     ]
    },
    {
     "name": "stderr",
     "output_type": "stream",
     "text": [
      "Generating Responses: 100%|██████████████████████████████████████████████████████████████| 4/4 [00:03<00:00,  1.26it/s]"
     ]
    },
    {
     "name": "stdout",
     "output_type": "stream",
     "text": [
      "User: What’s the weather like? | Bot: He nods. I'll see you around, I guess.\n"
     ]
    },
    {
     "name": "stderr",
     "output_type": "stream",
     "text": [
      "\n"
     ]
    }
   ],
   "source": [
    "# Chatbot function: generates a response using DialoGPT from user input.\n",
    "def ai_chatbot(prompt, max_new_tokens=50):\n",
    "    # Tokenize input with an end marker, send to GPU if possible.\n",
    "    input_ids = tokenizer.encode(prompt + tokenizer.eos_token, return_tensors=\"pt\").to(device)\n",
    "    # Generate response with creative settings for variety.\n",
    "    output_ids = model.generate(\n",
    "        input_ids,\n",
    "        max_new_tokens=max_new_tokens,\n",
    "        do_sample=True,\n",
    "        top_k=40,\n",
    "        top_p=0.95,\n",
    "        temperature=0.8,\n",
    "        pad_token_id=tokenizer.eos_token_id\n",
    "    )\n",
    "    # Decode output and extract response after the prompt.\n",
    "    generated_text = tokenizer.decode(output_ids[0], skip_special_tokens=True)\n",
    "    response_parts = generated_text.split(tokenizer.eos_token)\n",
    "    return response_parts[1].strip() if len(response_parts) > 1 else generated_text[len(prompt):].strip()\n",
    "\n",
    "# Test the chatbot: runs it with sample inputs and shows AI responses.\n",
    "test_inputs = [\"Hi, how are you?\", \"Tell me about AI\", \"Goodbye\", \"What’s the weather like?\"]\n",
    "print(\"\\nTesting AI-Powered Chatbot (DialoGPT):\")\n",
    "for input_text in tqdm(test_inputs, desc=\"Generating Responses\"):\n",
    "    response = ai_chatbot(input_text)\n",
    "    print(f\"User: {input_text} | Bot: {response}\")"
   ]
  },
  {
   "cell_type": "code",
   "execution_count": 5,
   "id": "9118b4c4-d8fb-4647-a2be-bae25cd801d1",
   "metadata": {},
   "outputs": [
    {
     "name": "stdout",
     "output_type": "stream",
     "text": [
      "\n",
      "Testing AI-Powered Chatbot (DialoGPT):\n"
     ]
    },
    {
     "name": "stderr",
     "output_type": "stream",
     "text": [
      "Generating Responses:  25%|███████████████▌                                              | 1/4 [00:00<00:00,  3.03it/s]"
     ]
    },
    {
     "name": "stdout",
     "output_type": "stream",
     "text": [
      "User: Hi, how are you? | Bot: Hi, I m a girl\n"
     ]
    },
    {
     "name": "stderr",
     "output_type": "stream",
     "text": [
      "Generating Responses:  50%|███████████████████████████████                               | 2/4 [00:00<00:00,  2.40it/s]"
     ]
    },
    {
     "name": "stdout",
     "output_type": "stream",
     "text": [
      "User: Tell me about AI | Bot: Well, the AI is going to win against the other humans, so...\n"
     ]
    },
    {
     "name": "stderr",
     "output_type": "stream",
     "text": [
      "Generating Responses: 100%|██████████████████████████████████████████████████████████████| 4/4 [00:01<00:00,  3.74it/s]"
     ]
    },
    {
     "name": "stdout",
     "output_type": "stream",
     "text": [
      "User: Goodbye | Bot: I'll be in my bunk.\n",
      "User: What’s the weather like? | Bot: What about him\n"
     ]
    },
    {
     "name": "stderr",
     "output_type": "stream",
     "text": [
      "Generating Responses: 100%|██████████████████████████████████████████████████████████████| 4/4 [00:01<00:00,  3.33it/s]\n"
     ]
    }
   ],
   "source": [
    "# Import libraries: Torch for GPU, Transformers for AI models, and others.\n",
    "import nltk\n",
    "import spacy\n",
    "import random\n",
    "import torch\n",
    "from sklearn.feature_extraction.text import TfidfVectorizer\n",
    "from sklearn.svm import SVC\n",
    "from transformers import pipeline\n",
    "import warnings\n",
    "warnings.filterwarnings(\"ignore\")\n",
    "\n",
    "# Load SpaCy model: English model for NLP, not used in this AI approach.\n",
    "nlp = spacy.load(\"en_core_web_sm\")\n",
    "\n",
    "# Import tqdm: adds progress bars to loops for visual feedback.\n",
    "from tqdm import tqdm\n",
    "\n",
    "# Import Transformers tools: tokenizer and model for AI chatbot functionality.\n",
    "from transformers import AutoTokenizer, AutoModelForCausalLM\n",
    "\n",
    "# Load AI model: sets up DialoGPT with tokenizer and moves it to GPU if available.\n",
    "tokenizer = AutoTokenizer.from_pretrained(\"microsoft/DialoGPT-small\")\n",
    "model = AutoModelForCausalLM.from_pretrained(\"microsoft/DialoGPT-small\")\n",
    "device = \"cuda\" if torch.cuda.is_available() else \"cpu\"\n",
    "model.to(device)\n",
    "\n",
    "# Chatbot function: generates a response using DialoGPT from user input.\n",
    "def ai_chatbot(prompt, max_new_tokens=50):\n",
    "    # Tokenize input with an end marker, send to GPU if possible.\n",
    "    input_ids = tokenizer.encode(prompt + tokenizer.eos_token, return_tensors=\"pt\").to(device)\n",
    "    # Generate response with creative settings for variety.\n",
    "    output_ids = model.generate(\n",
    "        input_ids,\n",
    "        max_new_tokens=max_new_tokens,\n",
    "        do_sample=True,\n",
    "        top_k=40,\n",
    "        top_p=0.95,\n",
    "        temperature=0.8,\n",
    "        pad_token_id=tokenizer.eos_token_id\n",
    "    )\n",
    "    # Decode output and extract response after the prompt.\n",
    "    generated_text = tokenizer.decode(output_ids[0], skip_special_tokens=True)\n",
    "    response_parts = generated_text.split(tokenizer.eos_token)\n",
    "    return response_parts[1].strip() if len(response_parts) > 1 else generated_text[len(prompt):].strip()\n",
    "\n",
    "# Test the chatbot: runs it with sample inputs and shows AI responses.\n",
    "test_inputs = [\"Hi, how are you?\", \"Tell me about AI\", \"Goodbye\", \"What’s the weather like?\"]\n",
    "print(\"\\nTesting AI-Powered Chatbot (DialoGPT):\")\n",
    "for input_text in tqdm(test_inputs, desc=\"Generating Responses\"):\n",
    "    response = ai_chatbot(input_text)\n",
    "    print(f\"User: {input_text} | Bot: {response}\")"
   ]
  },
  {
   "cell_type": "code",
   "execution_count": null,
   "id": "a8f35e7b-6569-4aff-8074-aeda0eea51b2",
   "metadata": {},
   "outputs": [],
   "source": []
  }
 ],
 "metadata": {
  "kernelspec": {
   "display_name": "Python 3 (ipykernel)",
   "language": "python",
   "name": "python3"
  },
  "language_info": {
   "codemirror_mode": {
    "name": "ipython",
    "version": 3
   },
   "file_extension": ".py",
   "mimetype": "text/x-python",
   "name": "python",
   "nbconvert_exporter": "python",
   "pygments_lexer": "ipython3",
   "version": "3.12.7"
  }
 },
 "nbformat": 4,
 "nbformat_minor": 5
}
